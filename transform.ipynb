import torch
import numpy as np

class Toindex(object):
    def __init__(self,lookup_table):
        assert isinstance(lookup_table,list)
        self.lookup_table = lookup_table
        
    def __call__(self,sample):
        X_idx,y_idx = [],[]
        X,y = sample[0],sample[1]
        for sentence in X:
            word_idx = []
            for word in sentence:
                try:
                    word_idx.append(self.lookup_table.index(word))
                except:
                    word_idx.append(0)
            X_idx.append(word_idx)
        for sentence in y:
            word_idx = []
            for word in sentence:
                try:
                    word_idx.append(self.lookup_table.index(word))
                except:
                    word_idx.append(0)
            y_idx.append(word_idx)
            
        return np.array(X_idx),np.array(y_idx)
    
class ToOnehot(object):
    def __init__(self,lookup_table):
        assert isinstance(lookup_table,list)
        self.lookup_table = lookup_table
        
    def __call__(self,sample):
        vec = []
        X,y = sample[0],sample[1]
        for sentence in X:
            idx_vec = []
            for idx in sentence:
                zero = np.zeros(len(self.lookup_table))
                zero[idx] = 1
                idx_vec.append(zero)
            vec.append(idx_vec)
        return np.asarray(vec),np.asarray(y)
    
class ToTensor(object):
    def __call__(self,samples):
        X,y = samples[0],samples[1]
        assert isinstance(X,np.ndarray)
        X = torch.tensor(X)
        y = torch.tensor(y)
        return X,y
    
class CBOW_sum_up(object):
    def __call__(self,samples):
        X,y = samples[0],samples[1]
        return torch.mean(X,1).squeeze(),y
        
        
class Compose(object):
    def __init__(self,transforms):
        assert isinstance(transforms,list)
        self.transforms = transforms
    def __call__(self,samples):
        for transform in self.transforms:
            samples = transform(samples)
        return samples
            
            